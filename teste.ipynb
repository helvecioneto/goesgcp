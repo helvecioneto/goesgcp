{
 "cells": [
  {
   "cell_type": "code",
   "execution_count": null,
   "metadata": {},
   "outputs": [
    {
     "name": "stdout",
     "output_type": "stream",
     "text": [
      "Resolução X: 1.0, Resolução Y: 1.0\n",
      "Arquivo gerado com sucesso: /home/helvecioneto/goesgcp/teste.nc\n"
     ]
    },
    {
     "name": "stderr",
     "output_type": "stream",
     "text": [
      "ERROR 1: Cannot open grade_1km.nc.\n"
     ]
    }
   ],
   "source": [
    "from osgeo import gdal\n",
    "import os\n",
    "\n",
    "# Caminho dos arquivos\n",
    "input_file = '/home/helvecioneto/goesgcp/tmp/OR_ABI-L2-CMIPF-M6C02_G16_s20241531500188_e20241531509496_c20241531509557.nc'\n",
    "output_file = '/home/helvecioneto/goesgcp/teste.nc'\n",
    "base = \"/home/helvecioneto/goesgcp/grade_1km.nc\"  # Arquivo NetCDF que será usado como cutline\n",
    "\n",
    "# Verifique se o arquivo de entrada existe\n",
    "if not os.path.exists(input_file):\n",
    "    print(f\"Arquivo de entrada não encontrado: {input_file}\")\n",
    "    exit()\n",
    "\n",
    "# Verifique se o arquivo de base existe\n",
    "if not os.path.exists(base):\n",
    "    print(f\"Arquivo de referência não encontrado: {base}\")\n",
    "    exit()\n",
    "\n",
    "# Abra o arquivo de entrada\n",
    "src_ds = gdal.Open(input_file)\n",
    "if src_ds is None:\n",
    "    print(f\"Erro ao abrir o arquivo de entrada: {input_file}\")\n",
    "    exit()\n",
    "\n",
    "# Abra o arquivo de referência (base) que será usado como cutline\n",
    "ref_ds = gdal.Open(base)\n",
    "if ref_ds is None:\n",
    "    print(f\"Erro ao abrir o arquivo de referência: {base}\")\n",
    "    exit()\n",
    "\n",
    "# Obtenha as informações de resolução do arquivo de referência\n",
    "geo_transform = ref_ds.GetGeoTransform()\n",
    "res_x = geo_transform[1]  # Resolução X\n",
    "res_y = geo_transform[5]  # Resolução Y (geralmente negativa)\n",
    "\n",
    "# Verifique se as resoluções estão corretas\n",
    "print(f\"Resolução X: {res_x}, Resolução Y: {res_y}\")\n",
    "\n",
    "# Configurar o dicionário de parâmetros kwargs\n",
    "kwargs = {\n",
    "    'cutlineDSName': base,  # Arquivo NetCDF de recorte\n",
    "    'cropToCutline': True,  # Recortar para a área definida no cutline\n",
    "    'xRes': res_x,  # Resolução X\n",
    "    'yRes': res_y,  # Resolução Y\n",
    "    'resampleAlg': gdal.GRA_Bilinear,  # Algoritmo de interpolação (bilinear)\n",
    "    'format': 'NetCDF'  # Garantir o formato de saída\n",
    "}\n",
    "\n",
    "# Tente realizar o recorte\n",
    "try:\n",
    "    gdal.Warp(output_file, src_ds, **kwargs)\n",
    "    print(f\"Arquivo gerado com sucesso: {os.path.abspath(output_file)}\")\n",
    "except Exception as e:\n",
    "    print(f\"Ocorreu um erro ao executar gdal.Warp: {e}\")\n",
    "\n",
    "# Feche os datasets\n",
    "src_ds = None\n",
    "ref_ds = None\n"
   ]
  },
  {
   "cell_type": "code",
   "execution_count": 3,
   "metadata": {},
   "outputs": [
    {
     "name": "stdout",
     "output_type": "stream",
     "text": [
      "20240601_1500.nc_tmp1.nc\n",
      "OR_ABI-L2-CMIPF-M6C02_G16_s20241531500188_e20241531509496_c20241531509557.nc\n"
     ]
    }
   ],
   "source": [
    "!ls tmp"
   ]
  },
  {
   "cell_type": "code",
   "execution_count": 5,
   "metadata": {},
   "outputs": [
    {
     "name": "stderr",
     "output_type": "stream",
     "text": [
      "ERROR 4: netCDF:tmp/OR_ABI-L2-CMIPF-M6C02_G16_s20241531500188_e20241531509496_c20241531509557.nc:CMI: No such file or directory\n"
     ]
    },
    {
     "ename": "AttributeError",
     "evalue": "'NoneType' object has no attribute 'GetProjectionRef'",
     "output_type": "error",
     "traceback": [
      "\u001b[0;31m---------------------------------------------------------------------------\u001b[0m",
      "\u001b[0;31mAttributeError\u001b[0m                            Traceback (most recent call last)",
      "Cell \u001b[0;32mIn[5], line 19\u001b[0m\n\u001b[1;32m     17\u001b[0m \u001b[38;5;66;03m# Get source projection\u001b[39;00m\n\u001b[1;32m     18\u001b[0m source_prj \u001b[38;5;241m=\u001b[39m osr\u001b[38;5;241m.\u001b[39mSpatialReference()\n\u001b[0;32m---> 19\u001b[0m source_prj\u001b[38;5;241m.\u001b[39mImportFromProj4(\u001b[43msrc_ds\u001b[49m\u001b[38;5;241;43m.\u001b[39;49m\u001b[43mGetProjectionRef\u001b[49m())\n\u001b[1;32m     21\u001b[0m \u001b[38;5;66;03m# Set target projection\u001b[39;00m\n\u001b[1;32m     22\u001b[0m target_prj \u001b[38;5;241m=\u001b[39m osr\u001b[38;5;241m.\u001b[39mSpatialReference()\n",
      "\u001b[0;31mAttributeError\u001b[0m: 'NoneType' object has no attribute 'GetProjectionRef'"
     ]
    }
   ],
   "source": [
    "from osgeo import gdal, osr\n",
    "\n",
    "# Caminho dos arquivos\n",
    "input_file = 'tmp/OR_ABI-L2-CMIPF-M6C02_G16_s20241531500188_e20241531509496_c20241531509557.nc'\n",
    "output_file = 'teste.nc'\n",
    "var_name = 'CMI'\n",
    "\n",
    "lon_min = -60.0\n",
    "lat_min = -40.0\n",
    "lon_max = -30.0\n",
    "lat_max = -10.0\n",
    "resolution = 0.01\n",
    "\n",
    "# Abra o arquivo de entrada CMI\n",
    "src_ds = gdal.Open(f\"netCDF:{input_file}:{var_name}\")\n",
    "\n",
    "# Get source projection\n",
    "source_prj = osr.SpatialReference()\n",
    "source_prj.ImportFromProj4(src_ds.GetProjectionRef())\n",
    "\n",
    "# Set target projection\n",
    "target_prj = osr.SpatialReference()\n",
    "target_prj.ImportFromProj4(\"+proj=longlat +ellps=WGS84 +datum=WGS84 +no_defs\")\n",
    "\n",
    "print(\"Source Projection:\", source_prj.ExportToWkt())\n",
    "print(\"Target Projection:\", target_prj.ExportToWkt())\n",
    "\n",
    "\n",
    "# Configurar o dicionário de parâmetros kwargs\n",
    "kwargs = {\n",
    "        'format': 'netCDF',\n",
    "        'srcSRS': source_prj.ExportToWkt(),\n",
    "        'dstSRS': target_prj.ExportToWkt(),\n",
    "        'outputBounds': (lon_min, lat_min, lon_max, lat_max),\n",
    "        'xRes': resolution,\n",
    "        'yRes': resolution,\n",
    "        'resampleAlg': gdal.GRA_Bilinear,\n",
    "        'outputType': gdal.GDT_Int16,\n",
    "        'dstNodata': -9999,\n",
    "    }\n",
    "\n",
    "\n",
    "# Tente realizar o recorte\n",
    "gdal.Warp(output_file, src_ds, **kwargs)\n",
    "\n",
    "# Feche os datasets\n",
    "src_ds = None"
   ]
  }
 ],
 "metadata": {
  "kernelspec": {
   "display_name": "goesgcp",
   "language": "python",
   "name": "python3"
  },
  "language_info": {
   "codemirror_mode": {
    "name": "ipython",
    "version": 3
   },
   "file_extension": ".py",
   "mimetype": "text/x-python",
   "name": "python",
   "nbconvert_exporter": "python",
   "pygments_lexer": "ipython3",
   "version": "3.11.0"
  }
 },
 "nbformat": 4,
 "nbformat_minor": 2
}
